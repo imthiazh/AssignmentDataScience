{
 "cells": [
  {
   "cell_type": "code",
   "execution_count": 21,
   "id": "59659b2b-4b41-457c-9e0c-b14d21ebef92",
   "metadata": {},
   "outputs": [
    {
     "name": "stdout",
     "output_type": "stream",
     "text": [
      "[('I', 'I-Amenity'), ('had', 'B-Cuisine'), ('dinner', 'I-Location'), ('at', 'I-Hours'), ('a', 'I-Hours'), ('4', 'I-Location'), ('-', 'I-Amenity'), ('star', 'I-Rating'), ('Italian', 'I-Restaurant_Name'), ('restaurant', 'I-Amenity'), ('in', 'B-Location'), ('New', 'O'), ('York', 'B-Amenity'), ('.', 'B-Cuisine')]\n"
     ]
    }
   ],
   "source": [
    "import spacy\n",
    "import csv\n",
    "from spacy.training import Example\n",
    "from spacy.tokens import Doc\n",
    "from spacy.training import offsets_to_biluo_tags\n",
    "\n",
    "# Load the blank English language model\n",
    "nlp = spacy.blank(\"en\")\n",
    "\n",
    "# Define the labels and their order in the csv file\n",
    "LABELS = [\"Rating\", \"Location\"]\n",
    "MODEL_DIR = \"model\"\n",
    "\n",
    "# Load the training data from the csv file\n",
    "with open(\"data_copy.csv\", \"r\", encoding=\"utf-8\") as f:\n",
    "    reader = csv.DictReader(f, fieldnames=LABELS, delimiter=\",\", quotechar='\"', quoting=csv.QUOTE_MINIMAL)\n",
    "    train_data = []\n",
    "    for row in reader:\n",
    "        # Split the row into NER label and text\n",
    "        label = row[LABELS[0]]\n",
    "        text = row[LABELS[1]]\n",
    "        # Convert the label and text to a SpaCy Example object\n",
    "        doc = nlp.make_doc(text)\n",
    "        entities = [(0, len(text), label)]\n",
    "        biluo_tags = offsets_to_biluo_tags(doc, entities)\n",
    "        if \"-\" not in biluo_tags:\n",
    "            example = Example.from_dict(doc, {\"entities\": entities, \"tags\": biluo_tags})\n",
    "            train_data.append(example)\n",
    "\n",
    "# Add the named entity recognizer to the pipeline\n",
    "ner = nlp.add_pipe(\"ner\")\n",
    "\n",
    "# Add the labels to the named entity recognizer\n",
    "for label in LABELS:\n",
    "    ner.add_label(label)\n",
    "\n",
    "# Disable other pipeline components\n",
    "other_pipes = [pipe for pipe in nlp.pipe_names if pipe != \"ner\"]\n",
    "with nlp.disable_pipes(*other_pipes):\n",
    "    # Train the named entity recognizer on the training data\n",
    "    optimizer = nlp.begin_training()\n",
    "    for i in range(10):\n",
    "        for example in train_data:\n",
    "            nlp.update([example], sgd=optimizer)\n",
    "\n",
    "# Test the trained model\n",
    "doc = nlp(\"I had dinner at a 4-star Italian restaurant in New York.\")\n",
    "print([(ent.label_, ent.text) for ent in doc.ents])\n",
    "\n",
    "# Save the trained model to the disk\n",
    "nlp.to_disk(MODEL_DIR)\n"
   ]
  }
 ],
 "metadata": {
  "kernelspec": {
   "display_name": "Python [conda env:root] *",
   "language": "python",
   "name": "conda-root-py"
  },
  "language_info": {
   "codemirror_mode": {
    "name": "ipython",
    "version": 3
   },
   "file_extension": ".py",
   "mimetype": "text/x-python",
   "name": "python",
   "nbconvert_exporter": "python",
   "pygments_lexer": "ipython3",
   "version": "3.10.10"
  }
 },
 "nbformat": 4,
 "nbformat_minor": 5
}
